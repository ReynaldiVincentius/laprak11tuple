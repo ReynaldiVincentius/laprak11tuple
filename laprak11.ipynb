{
 "cells": [
  {
   "cell_type": "code",
   "execution_count": 1,
   "metadata": {},
   "outputs": [
    {
     "name": "stdout",
     "output_type": "stream",
     "text": [
      "True\n",
      "False\n"
     ]
    }
   ],
   "source": [
    "def cek(t):\n",
    "    return len(set(t)) == 1\n",
    "    \n",
    "tA = (90,90,90,90)\n",
    "print(cek(tA))\n",
    "\n",
    "tb = (90,90,60,90)\n",
    "print(cek(tb))"
   ]
  },
  {
   "cell_type": "code",
   "execution_count": null,
   "metadata": {},
   "outputs": [],
   "source": [
    "def data(nama_lengkap, nim, alamat):\n",
    "    gabung = nama_lengkap, nim, alamat\n",
    "    print(\"Data:\", tuple(gabung))\n",
    "    print(\"\\n\")\n",
    "    print(\"NIM      :\", ' '.join(nim))\n",
    "    print(\"NAMA     :\", ' '.join(nama_lengkap))\n",
    "    print(\"ALAMAT   :\", alamat)\n",
    "    print('\\n')\n",
    "    print(\"NIM:\", tuple(nim))\n",
    "    print(\"NAMA DEPAN:\", tuple(nama_lengkap.split()[0]))\n",
    "    print(\"NAMA TERBALIK:\", tuple(nama_lengkap.split()[::-1]))\n",
    "\n",
    "nama_lengkap = 'Reynaldi Vincentius Sebastian'\n",
    "nim = '71230979'\n",
    "alamat = 'Gondokusuman, Yogyakarta'\n",
    "\n",
    "data(nama_lengkap, nim, alamat)"
   ]
  },
  {
   "cell_type": "code",
   "execution_count": null,
   "metadata": {},
   "outputs": [],
   "source": [
    "def hitung_distribusi_jam(namafile):\n",
    "    distribusi_jam = {}\n",
    "    try:\n",
    "        with open(namafile, 'r') as file:\n",
    "            for line in file:\n",
    "                if line.startswith('From '):\n",
    "                    kata = line.split()\n",
    "                    waktu = kata[5].split(':')\n",
    "                    jam = waktu[0]\n",
    "                    distribusi_jam[jam] = distribusi_jam.get(jam, 0) + 1\n",
    "    except FileNotFoundError:\n",
    "        print(\"File tidak ditemukan\")\n",
    "        return\n",
    "\n",
    "    print(\"Distribusi Jam:\")\n",
    "    for jam in sorted(distribusi_jam):\n",
    "        print(jam, distribusi_jam[jam])\n",
    "\n",
    "namafile = 'mbox-short.txt'\n",
    "\n",
    "hitung_distribusi_jam(namafile)"
   ]
  }
 ],
 "metadata": {
  "kernelspec": {
   "display_name": "Python 3",
   "language": "python",
   "name": "python3"
  },
  "language_info": {
   "codemirror_mode": {
    "name": "ipython",
    "version": 3
   },
   "file_extension": ".py",
   "mimetype": "text/x-python",
   "name": "python",
   "nbconvert_exporter": "python",
   "pygments_lexer": "ipython3",
   "version": "3.12.0"
  }
 },
 "nbformat": 4,
 "nbformat_minor": 2
}
